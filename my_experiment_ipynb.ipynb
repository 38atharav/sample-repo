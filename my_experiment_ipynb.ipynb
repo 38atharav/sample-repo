{
  "nbformat": 4,
  "nbformat_minor": 0,
  "metadata": {
    "colab": {
      "provenance": []
    },
    "kernelspec": {
      "name": "python3",
      "display_name": "Python 3"
    },
    "language_info": {
      "name": "python"
    }
  },
  "cells": [
    {
      "cell_type": "code",
      "execution_count": 1,
      "metadata": {
        "colab": {
          "base_uri": "https://localhost:8080/"
        },
        "id": "83ARA03wxjoY",
        "outputId": "8850f36c-c1b8-46db-e3ce-a5cd8a178518"
      },
      "outputs": [
        {
          "output_type": "stream",
          "name": "stdout",
          "text": [
            "hllo world\n"
          ]
        }
      ],
      "source": [
        "print(\"hllo world\")"
      ]
    },
    {
      "cell_type": "code",
      "source": [
        "### hello world \n"
      ],
      "metadata": {
        "id": "xo-p9zF1yFvP"
      },
      "execution_count": 2,
      "outputs": []
    },
    {
      "cell_type": "code",
      "source": [
        "Print(\"hello world\")"
      ],
      "metadata": {
        "colab": {
          "base_uri": "https://localhost:8080/",
          "height": 165
        },
        "id": "S3kzdBZ2yScx",
        "outputId": "6281aed9-cfca-4fa8-8fad-17dad4006fbe"
      },
      "execution_count": 3,
      "outputs": [
        {
          "output_type": "error",
          "ename": "NameError",
          "evalue": "ignored",
          "traceback": [
            "\u001b[0;31m---------------------------------------------------------------------------\u001b[0m",
            "\u001b[0;31mNameError\u001b[0m                                 Traceback (most recent call last)",
            "\u001b[0;32m<ipython-input-3-9e94fdc0344b>\u001b[0m in \u001b[0;36m<module>\u001b[0;34m\u001b[0m\n\u001b[0;32m----> 1\u001b[0;31m \u001b[0mPrint\u001b[0m\u001b[0;34m(\u001b[0m\u001b[0;34m\"hello world\"\u001b[0m\u001b[0;34m)\u001b[0m\u001b[0;34m\u001b[0m\u001b[0;34m\u001b[0m\u001b[0m\n\u001b[0m",
            "\u001b[0;31mNameError\u001b[0m: name 'Print' is not defined"
          ]
        }
      ]
    },
    {
      "cell_type": "code",
      "source": [
        "print(\"Atharav Ravindra Patil\")"
      ],
      "metadata": {
        "colab": {
          "base_uri": "https://localhost:8080/"
        },
        "id": "3Hg5HxNvynLz",
        "outputId": "65ee87cf-6e3c-49ea-bf1b-46f811b2fa99"
      },
      "execution_count": 4,
      "outputs": [
        {
          "output_type": "stream",
          "name": "stdout",
          "text": [
            "Atharav Ravindra Patil\n"
          ]
        }
      ]
    },
    {
      "cell_type": "code",
      "source": [
        "print(\"from today there is new beginning\")"
      ],
      "metadata": {
        "colab": {
          "base_uri": "https://localhost:8080/"
        },
        "id": "A6ObzxchzETh",
        "outputId": "c531284c-0b3a-4ef9-9e4c-bcb1670a5eae"
      },
      "execution_count": 6,
      "outputs": [
        {
          "output_type": "stream",
          "name": "stdout",
          "text": [
            "from today there is new beginning\n"
          ]
        }
      ]
    },
    {
      "cell_type": "code",
      "source": [
        "input = (\"enter your name\")"
      ],
      "metadata": {
        "id": "0t9obH9zzapD"
      },
      "execution_count": 8,
      "outputs": []
    }
  ]
}